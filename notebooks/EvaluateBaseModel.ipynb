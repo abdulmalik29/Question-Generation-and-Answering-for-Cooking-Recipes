{
 "cells": [
  {
   "cell_type": "markdown",
   "id": "c76369e4",
   "metadata": {},
   "source": [
    "<h2>Base model evaluation</h2>\n",
    "\n",
    "This model used is RoBERTa that is further trained on BoolQ dataset.\n",
    "our evalution citeria is accuracy and f-score of the model and confusion matrix to visualize claasfication patterns.\n",
    "Both auto-generated and manually generated questions are tested.\n",
    "\n",
    "it can be optianed from https://pypi.org/project/boolean-question/"
   ]
  },
  {
   "cell_type": "code",
   "execution_count": 1,
   "id": "97e2e403",
   "metadata": {},
   "outputs": [
    {
     "name": "stderr",
     "output_type": "stream",
     "text": [
      "C:\\Users\\Mohammed\\Anaconda3\\envs\\robo2\\lib\\site-packages\\tqdm\\auto.py:22: TqdmWarning: IProgress not found. Please update jupyter and ipywidgets. See https://ipywidgets.readthedocs.io/en/stable/user_install.html\n",
      "  from .autonotebook import tqdm as notebook_tqdm\n"
     ]
    }
   ],
   "source": [
    "from sklearn.metrics import f1_score\n",
    "from sklearn.metrics import plot_confusion_matrix\n",
    "import seaborn as sns\n",
    "import matplotlib.pyplot as plt\n",
    "from sklearn.metrics import confusion_matrix\n",
    "import numpy as np\n",
    "import pandas as pd\n",
    "from boolean_question import BoolQ"
   ]
  },
  {
   "cell_type": "markdown",
   "id": "8c24a577",
   "metadata": {},
   "source": [
    "# Get questions from dataset"
   ]
  },
  {
   "cell_type": "code",
   "execution_count": 2,
   "id": "db8309e6",
   "metadata": {},
   "outputs": [
    {
     "data": {
      "text/html": [
       "<div>\n",
       "<style scoped>\n",
       "    .dataframe tbody tr th:only-of-type {\n",
       "        vertical-align: middle;\n",
       "    }\n",
       "\n",
       "    .dataframe tbody tr th {\n",
       "        vertical-align: top;\n",
       "    }\n",
       "\n",
       "    .dataframe thead th {\n",
       "        text-align: right;\n",
       "    }\n",
       "</style>\n",
       "<table border=\"1\" class=\"dataframe\">\n",
       "  <thead>\n",
       "    <tr style=\"text-align: right;\">\n",
       "      <th></th>\n",
       "      <th>Recipe</th>\n",
       "      <th>Question</th>\n",
       "      <th>label</th>\n",
       "    </tr>\n",
       "  </thead>\n",
       "  <tbody>\n",
       "    <tr>\n",
       "      <th>0</th>\n",
       "      <td>Stir together brown sugar and hot water in a c...</td>\n",
       "      <td>Does the orange twist in a cocktail shaker work?</td>\n",
       "      <td>0</td>\n",
       "    </tr>\n",
       "    <tr>\n",
       "      <th>1</th>\n",
       "      <td>Place 2 chamomile tea bags in a heatsafe vesse...</td>\n",
       "      <td>Do you make chamomile tea with tea leaves?</td>\n",
       "      <td>0</td>\n",
       "    </tr>\n",
       "    <tr>\n",
       "      <th>2</th>\n",
       "      <td>Add 3 oz. Grand Marnier, 1 oz. Amaro Averna, a...</td>\n",
       "      <td>Is 1 oz. grand marnier the same as 1 12 tsp?</td>\n",
       "      <td>0</td>\n",
       "    </tr>\n",
       "    <tr>\n",
       "      <th>3</th>\n",
       "      <td>Heat oil in a large nonstick skillet over medi...</td>\n",
       "      <td>Are there any fruit in a mango smoothie?</td>\n",
       "      <td>0</td>\n",
       "    </tr>\n",
       "    <tr>\n",
       "      <th>4</th>\n",
       "      <td>In a large heavy kettle cook garlic, onions, c...</td>\n",
       "      <td>Do you make the shrimp sauce in the kimchi?</td>\n",
       "      <td>0</td>\n",
       "    </tr>\n",
       "  </tbody>\n",
       "</table>\n",
       "</div>"
      ],
      "text/plain": [
       "                                              Recipe  \\\n",
       "0  Stir together brown sugar and hot water in a c...   \n",
       "1  Place 2 chamomile tea bags in a heatsafe vesse...   \n",
       "2  Add 3 oz. Grand Marnier, 1 oz. Amaro Averna, a...   \n",
       "3  Heat oil in a large nonstick skillet over medi...   \n",
       "4  In a large heavy kettle cook garlic, onions, c...   \n",
       "\n",
       "                                           Question  label  \n",
       "0  Does the orange twist in a cocktail shaker work?      0  \n",
       "1        Do you make chamomile tea with tea leaves?      0  \n",
       "2      Is 1 oz. grand marnier the same as 1 12 tsp?      0  \n",
       "3          Are there any fruit in a mango smoothie?      0  \n",
       "4       Do you make the shrimp sauce in the kimchi?      0  "
      ]
     },
     "execution_count": 2,
     "metadata": {},
     "output_type": "execute_result"
    }
   ],
   "source": [
    "# Read CSV file into DataFrame df\n",
    "df = pd.read_csv('../data/generatedQuestions200.csv', header=0)\n",
    "df.head()"
   ]
  },
  {
   "cell_type": "code",
   "execution_count": 3,
   "id": "7c7bc5b4",
   "metadata": {},
   "outputs": [
    {
     "name": "stdout",
     "output_type": "stream",
     "text": [
      "Stir together brown sugar and hot water in a cocktail shaker to dissolve. Let cool, then add bourbon, lemon juice, and apple butter and fill with ice. Shake until well chilled, about 15 seconds. Strain into an ice-filled rocks glass. Garnish with orange twist and cinnamon.\n",
      "\n",
      "Does the orange twist in a cocktail shaker work? , answer:  0\n",
      "total rows:  200\n"
     ]
    }
   ],
   "source": [
    "# dataset example\n",
    "Recipes = list(df[\"Recipe\"]) \n",
    "print(Recipes[0])\n",
    "print()\n",
    "Questions = list(df[\"Question\"])\n",
    "labels = list(df[\"label\"])\n",
    "print(Questions[0], \", answer: \",labels[0])\n",
    "\n",
    "\n",
    "print(\"total rows: \", len(Recipes))"
   ]
  },
  {
   "cell_type": "markdown",
   "id": "771b1ba0",
   "metadata": {},
   "source": [
    "# Evaluate the base model"
   ]
  },
  {
   "cell_type": "markdown",
   "id": "f9dd5aee",
   "metadata": {},
   "source": [
    "# boolean_question libary"
   ]
  },
  {
   "cell_type": "code",
   "execution_count": 6,
   "id": "caeb762e",
   "metadata": {},
   "outputs": [
    {
     "name": "stderr",
     "output_type": "stream",
     "text": [
      "Some weights of the model checkpoint at C:\\Users\\Mohammed\\Anaconda3\\envs\\robo2\\lib\\site-packages\\boolean_question\\model were not used when initializing RobertaForSequenceClassification: ['roberta.pooler.dense.bias', 'roberta.pooler.dense.weight']\n",
      "- This IS expected if you are initializing RobertaForSequenceClassification from the checkpoint of a model trained on another task or with another architecture (e.g. initializing a BertForSequenceClassification model from a BertForPreTraining model).\n",
      "- This IS NOT expected if you are initializing RobertaForSequenceClassification from the checkpoint of a model that you expect to be exactly identical (initializing a BertForSequenceClassification model from a BertForSequenceClassification model).\n"
     ]
    },
    {
     "name": "stdout",
     "output_type": "stream",
     "text": [
      "Done...  200\n",
      "len true:  200\n",
      "len pred:  200\n"
     ]
    }
   ],
   "source": [
    "y_true = []\n",
    "y_pred = []\n",
    "\n",
    "bq = BoolQ()\n",
    "tested = 0\n",
    "\n",
    "# Predict the answer from the passage and the question\n",
    "for i in range(len(Recipes)):\n",
    "    #answer the Q\n",
    "    tested +=1\n",
    "    ans = bq.predict(passage=Recipes[i], question=Questions[i])\n",
    "    \n",
    "    pred = \"\"\n",
    "    if (ans):\n",
    "        pred = 1\n",
    "    else:\n",
    "        pred = 0\n",
    "\n",
    "#     y_true.append(labels[i])\n",
    "    y_pred.append(pred)      \n",
    " \n",
    "\n",
    "print(\"Done... \", tested)\n",
    "print(\"len true: \", len(labels))\n",
    "print(\"len pred: \", len(y_pred))"
   ]
  },
  {
   "cell_type": "code",
   "execution_count": 7,
   "id": "f1dd0249",
   "metadata": {},
   "outputs": [
    {
     "name": "stdout",
     "output_type": "stream",
     "text": [
      "acc:  0.555\n",
      "\n",
      "[[18.5 31.5]\n",
      " [13.  37. ]]\n"
     ]
    },
    {
     "data": {
      "image/png": "[encoded data removed]",
      "text/plain": [
       "<Figure size 432x288 with 2 Axes>"
      ]
     },
     "metadata": {
      "needs_background": "light"
     },
     "output_type": "display_data"
    },
    {
     "name": "stdout",
     "output_type": "stream",
     "text": [
      "0.539230151950506\n",
      "0.555\n",
      "0.539230151950506\n"
     ]
    }
   ],
   "source": [
    "acc = 0\n",
    "for i in range(len(labels)):\n",
    "    if(labels[i] == y_pred[i]):\n",
    "        acc +=1\n",
    "print(\"acc: \", acc/len(labels))\n",
    "print()\n",
    "cf_matrix = confusion_matrix(labels, y_pred)\n",
    "print((cf_matrix/np.sum(cf_matrix)*100))\n",
    "\n",
    "\n",
    "ax = sns.heatmap(cf_matrix, annot=True, cmap='Blues')\n",
    "ax.set_title('Model Confusion Matrix\\n\\n');\n",
    "ax.set_xlabel('\\nPredicted Values')\n",
    "ax.set_ylabel('Actual Values ');\n",
    "\n",
    "## Ticket labels - List must be in alphabetical order\n",
    "ax.xaxis.set_ticklabels(['False','True'])\n",
    "ax.yaxis.set_ticklabels(['False','True'])\n",
    "\n",
    "## Display the visualization of the Confusion Matrix.\n",
    "plt.show()\n",
    "\n",
    "print(f1_score(labels, y_pred, average='macro',zero_division=1))\n",
    "print(f1_score(labels, y_pred, average='micro',zero_division=1))\n",
    "print(f1_score(labels, y_pred, average='weighted',zero_division=1))\n"
   ]
  },
  {
   "cell_type": "markdown",
   "id": "959e5707",
   "metadata": {},
   "source": [
    "# test on manually Generated Questions"
   ]
  },
  {
   "cell_type": "code",
   "execution_count": 9,
   "id": "aa5f33b0",
   "metadata": {},
   "outputs": [
    {
     "data": {
      "text/html": [
       "<div>\n",
       "<style scoped>\n",
       "    .dataframe tbody tr th:only-of-type {\n",
       "        vertical-align: middle;\n",
       "    }\n",
       "\n",
       "    .dataframe tbody tr th {\n",
       "        vertical-align: top;\n",
       "    }\n",
       "\n",
       "    .dataframe thead th {\n",
       "        text-align: right;\n",
       "    }\n",
       "</style>\n",
       "<table border=\"1\" class=\"dataframe\">\n",
       "  <thead>\n",
       "    <tr style=\"text-align: right;\">\n",
       "      <th></th>\n",
       "      <th>Recipe</th>\n",
       "      <th>Question</th>\n",
       "      <th>label</th>\n",
       "    </tr>\n",
       "  </thead>\n",
       "  <tbody>\n",
       "    <tr>\n",
       "      <th>0</th>\n",
       "      <td>Blend flour, sugar, and salt in processor unti...</td>\n",
       "      <td>is wine needed in this recipe</td>\n",
       "      <td>1</td>\n",
       "    </tr>\n",
       "    <tr>\n",
       "      <th>1</th>\n",
       "      <td>Blend flour, sugar, and salt in processor unti...</td>\n",
       "      <td>Is the dough baked for 5 minutes?</td>\n",
       "      <td>0</td>\n",
       "    </tr>\n",
       "    <tr>\n",
       "      <th>2</th>\n",
       "      <td>Mix salt, 3 tablespoons sugar, and pepper in s...</td>\n",
       "      <td>Are pork crosswise cut  into thin slices?</td>\n",
       "      <td>1</td>\n",
       "    </tr>\n",
       "    <tr>\n",
       "      <th>3</th>\n",
       "      <td>Mix salt, 3 tablespoons sugar, and pepper in s...</td>\n",
       "      <td>is the pork coated with sugar</td>\n",
       "      <td>0</td>\n",
       "    </tr>\n",
       "    <tr>\n",
       "      <th>4</th>\n",
       "      <td>Combine berries in a large bowl. Heat wine, cr...</td>\n",
       "      <td>Are the strips fired unilt golden?</td>\n",
       "      <td>1</td>\n",
       "    </tr>\n",
       "  </tbody>\n",
       "</table>\n",
       "</div>"
      ],
      "text/plain": [
       "                                              Recipe  \\\n",
       "0  Blend flour, sugar, and salt in processor unti...   \n",
       "1  Blend flour, sugar, and salt in processor unti...   \n",
       "2  Mix salt, 3 tablespoons sugar, and pepper in s...   \n",
       "3  Mix salt, 3 tablespoons sugar, and pepper in s...   \n",
       "4  Combine berries in a large bowl. Heat wine, cr...   \n",
       "\n",
       "                                    Question  label  \n",
       "0              is wine needed in this recipe      1  \n",
       "1          Is the dough baked for 5 minutes?      0  \n",
       "2  Are pork crosswise cut  into thin slices?      1  \n",
       "3              is the pork coated with sugar      0  \n",
       "4         Are the strips fired unilt golden?      1  "
      ]
     },
     "execution_count": 9,
     "metadata": {},
     "output_type": "execute_result"
    }
   ],
   "source": [
    "df = pd.read_csv('../data/manuallyGeneratedQuestions.csv', header=0)\n",
    "df.head()"
   ]
  },
  {
   "cell_type": "code",
   "execution_count": null,
   "id": "97fd1b96",
   "metadata": {},
   "outputs": [],
   "source": [
    "# dataset example\n",
    "Recipes = list(df[\"Recipe\"]) \n",
    "print(Recipes[0])\n",
    "print()\n",
    "Questions = list(df[\"Question\"])\n",
    "labels = list(df[\"label\"])\n",
    "print(Questions[0], \", answer: \",labels[0])\n",
    "\n",
    "\n",
    "print(\"total rows: \", len(Recipes))"
   ]
  },
  {
   "cell_type": "code",
   "execution_count": 10,
   "id": "0e24d5ae",
   "metadata": {},
   "outputs": [
    {
     "name": "stderr",
     "output_type": "stream",
     "text": [
      "Some weights of the model checkpoint at C:\\Users\\Mohammed\\Anaconda3\\envs\\robo2\\lib\\site-packages\\boolean_question\\model were not used when initializing RobertaForSequenceClassification: ['roberta.pooler.dense.bias', 'roberta.pooler.dense.weight']\n",
      "- This IS expected if you are initializing RobertaForSequenceClassification from the checkpoint of a model trained on another task or with another architecture (e.g. initializing a BertForSequenceClassification model from a BertForPreTraining model).\n",
      "- This IS NOT expected if you are initializing RobertaForSequenceClassification from the checkpoint of a model that you expect to be exactly identical (initializing a BertForSequenceClassification model from a BertForSequenceClassification model).\n"
     ]
    },
    {
     "name": "stdout",
     "output_type": "stream",
     "text": [
      "Done...  200\n",
      "len true:  200\n",
      "len pred:  200\n"
     ]
    }
   ],
   "source": [
    "y_true = []\n",
    "y_pred = []\n",
    "\n",
    "bq = BoolQ()\n",
    "tested = 0\n",
    "\n",
    "# Predict the answer from the passage and the question\n",
    "for i in range(len(Recipes)):\n",
    "    #answer the Q\n",
    "    tested +=1\n",
    "    try:\n",
    "        ans = bq.predict(passage=Recipes[i], question=Questions[i])\n",
    "    \n",
    "        pred = \"\"\n",
    "        if (ans):\n",
    "            pred = 1\n",
    "        else:\n",
    "            pred = 0\n",
    "\n",
    "        y_pred.append(pred)\n",
    "    \n",
    "    except:\n",
    "        print(i)\n",
    " \n",
    "\n",
    "print(\"Done... \", tested)\n",
    "print(\"len true: \", len(labels))\n",
    "print(\"len pred: \", len(y_pred))"
   ]
  },
  {
   "cell_type": "code",
   "execution_count": 11,
   "id": "a1514568",
   "metadata": {},
   "outputs": [
    {
     "name": "stdout",
     "output_type": "stream",
     "text": [
      "acc:  0.555\n",
      "\n",
      "[[18.5 31.5]\n",
      " [13.  37. ]]\n"
     ]
    },
    {
     "data": {
      "image/png": "[encoded data removed]",
      "text/plain": [
       "<Figure size 432x288 with 2 Axes>"
      ]
     },
     "metadata": {
      "needs_background": "light"
     },
     "output_type": "display_data"
    },
    {
     "name": "stdout",
     "output_type": "stream",
     "text": [
      "0.539230151950506\n",
      "0.555\n",
      "0.539230151950506\n"
     ]
    }
   ],
   "source": [
    "acc = 0\n",
    "for i in range(len(labels)):\n",
    "    if(labels[i] == y_pred[i]):\n",
    "        acc +=1\n",
    "print(\"acc: \", acc/len(labels))\n",
    "print()\n",
    "\n",
    "cf_matrix = confusion_matrix(labels, y_pred)\n",
    "print((cf_matrix/np.sum(cf_matrix)*100))\n",
    "\n",
    "\n",
    "ax = sns.heatmap(cf_matrix, annot=True, cmap='Blues')\n",
    "ax.set_title('Confusion Matrix \\n\\n');\n",
    "ax.set_xlabel('\\nPredicted Values')\n",
    "ax.set_ylabel('Actual Values ');\n",
    "\n",
    "## Ticket labels - List must be in alphabetical order\n",
    "ax.xaxis.set_ticklabels(['False','True'])\n",
    "ax.yaxis.set_ticklabels(['False','True'])\n",
    "\n",
    "## Display the visualization of the Confusion Matrix.\n",
    "plt.show()\n",
    "\n",
    "print(f1_score(labels, y_pred, average='macro',zero_division=1))\n",
    "print(f1_score(labels, y_pred, average='micro',zero_division=1))\n",
    "print(f1_score(labels, y_pred, average='weighted',zero_division=1))\n"
   ]
  },
  {
   "cell_type": "code",
   "execution_count": null,
   "id": "b140b6c1",
   "metadata": {},
   "outputs": [],
   "source": []
  }
 ],
 "metadata": {
  "kernelspec": {
   "display_name": "Python 3 (ipykernel)",
   "language": "python",
   "name": "python3"
  },
  "language_info": {
   "codemirror_mode": {
    "name": "ipython",
    "version": 3
   },
   "file_extension": ".py",
   "mimetype": "text/x-python",
   "name": "python",
   "nbconvert_exporter": "python",
   "pygments_lexer": "ipython3",
   "version": "3.7.12"
  }
 },
 "nbformat": 4,
 "nbformat_minor": 5
}
